{
  "nbformat": 4,
  "nbformat_minor": 0,
  "metadata": {
    "colab": {
      "name": "ExtratorDefinitivo",
      "provenance": [],
      "collapsed_sections": []
    },
    "kernelspec": {
      "name": "python3",
      "display_name": "Python 3"
    }
  },
  "cells": [
    {
      "cell_type": "markdown",
      "metadata": {
        "id": "FwMJyIdJAEUn"
      },
      "source": [
        "## Carga Datajud\n",
        "\n"
      ]
    },
    {
      "cell_type": "markdown",
      "metadata": {
        "id": "Pb1nEC76kkCy"
      },
      "source": [
        "## Imports\n",
        "\n",
        "\n",
        "\n",
        "\n"
      ]
    },
    {
      "cell_type": "code",
      "metadata": {
        "id": "lKDEOyviE9Px"
      },
      "source": [
        "import json\n",
        "from datetime import datetime\n",
        "from google.colab import auth\n",
        "from googleapiclient.discovery import build\n",
        "from google.cloud import storage\n",
        "import csv\n",
        "from io import StringIO \n",
        "import traceback\n",
        "import logging\n"
      ],
      "execution_count": 12,
      "outputs": []
    },
    {
      "cell_type": "markdown",
      "metadata": {
        "id": "AuZ3w81M0O8l"
      },
      "source": [
        "## Autentica usuário no Google Colab"
      ]
    },
    {
      "cell_type": "code",
      "metadata": {
        "id": "nvoFU0bLkUMg"
      },
      "source": [
        "auth.authenticate_user()\n"
      ],
      "execution_count": 13,
      "outputs": []
    },
    {
      "cell_type": "markdown",
      "metadata": {
        "id": "3nRUyRAz0XTE"
      },
      "source": [
        "## Configura acesso ao Google Storage"
      ]
    },
    {
      "cell_type": "code",
      "metadata": {
        "id": "n-YKJ8fTmQo9"
      },
      "source": [
        "BUCKET_NAME = \"ueizejud\"\n",
        "project='tensile-virtue-291314'\n",
        "\n",
        "gcs_service = build('storage', 'v1')\n",
        "client = storage.Client(project=project)\n",
        "bucket = storage.Bucket(client, name=BUCKET_NAME, user_project=project)"
      ],
      "execution_count": 5,
      "outputs": []
    },
    {
      "cell_type": "markdown",
      "metadata": {
        "id": "E2Dmf0Hf1Ae8"
      },
      "source": [
        "## Parser para arquivos json"
      ]
    },
    {
      "cell_type": "code",
      "metadata": {
        "id": "x8q1AblvEfBc"
      },
      "source": [
        "logger = logging.getLogger(__name__)\n",
        "logger.setLevel(logging.INFO)\n",
        "#logger.setLevel(logging.DEBUG)\n",
        "\n",
        "\n",
        "def obtem_valor(dicionario, chave, padrao=''):\n",
        "  if chave in dicionario and dicionario[chave] != None:\n",
        "    return dicionario[chave]\n",
        "  else:\n",
        "    return padrao\n",
        "\n",
        "\n",
        "campos = {\n",
        "'processos':\n",
        "       [\n",
        "\t\t\t'id_processo', # see  gera_id_processo (proc)  #'id_processo'  TRT9_1125_G1_20393_00000014220195090325.json\n",
        "\t\t\t'millisInsercao', # millisInsercao: campo interno com data e hora em milissegundos que representa quando o arquivo foi indexado no Datajud;\t\t\t\n",
        "\t\t\t'grau', # grau: Campo identificador do grau de jurisdição em que o processo se encontra; valores possíveis: - 'SUP': Tribunal Superior - 'G2': 2º Grau - 'TR': Turma Recursal - 'G1': 1º grau, justiça comum - 'JE': Juizados Especiais (inclusive os regidos pelas leis dos Juizados Especiais 9.099/95 e 12.153/2009 que tramitam em varas de juízo único ou em varas que acumulam competência de juizado especial) - 'TRU': Turma Regional de Uniformização - 'TNU': Turma Nacional de Uniformização - 'TEU': Turma Estadual de Uniformização - 'CJF': Conselho da Justiça Federal - 'CSJT': Conselho Superior da Justiça do Trabalho;\n",
        "\t\t\t'siglaTribunal', #siglaTribunal: campo identificador da sigla do Tribunal em que o processo se encontra; \t\t\t\n",
        "\t\t\t'processoVinculado', #dadosBasicos.processoVinculado: elemento destinado a permitir a indicação da existência de um ou mais processos judiciais vinculados.\n",
        "\t\t\t'relacaoIncidental', #dadosBasicos.relacaoIncidental: elemento destinado a permitir identificar se existe algum elemento incidental que tenha gerado novo processo judicial, em razão da existência de uma nova relação processual jurídica (por exemplo, como pode ocorrer em embargos à execução de títulos extrajudiciais, embargos de terceiro, em recursos internos, impugnações ao valor da causa, entre outras Situações, em que há criação de novos autos vinculados ao processo principal);\n",
        "\t\t\t'prioridade', #dadosBasicos.prioridade: Elemento destinado a permitir a identificação da existência de propriedades processuais não óbvias, ou seja, aquelas que não são resultado direto da identificação da classe processual (ex.: habeas corpus ou mandado de segurança). Na versão 2.0, será texto livre, mas é recomendável utilizar os seguintes textos identificadores: \"IDOSO\" \"RÉU PRESO\" \"PERECIMENTO\" \"MENOR\";\n",
        "\t\t\t'valorCausa', #dadosBasicos.valorCausa: valor da causa;\n",
        "\t\t\t'orgaoJulgador_codigoOrgao', #dadosBasicos.orgaoJulgador.codigoOrgao: código da Unidade Judiciária constante no Módulo de Produtividade, Anexo II da Resolução 76;\n",
        "\t\t\t'orgaoJulgador_codigoMunicipioIBGE', #dadosBasicos.orgaoJulgador.codigoMunicipioIBGE: município-sede da unidade judiciária, conforme código de municípios definidos pelo IBGE. Usar código com sete dígitos. Fonte: www.ibge.gov.br;\n",
        "      'orgaoJulgador_instancia', #dadosBasicos.orgaoJulgador.instancia: os tipos de instância podem ser: - ORIG: instância originária em que o processo teve início; - REV: instância de revisão direta de um processo originariamente proposto em outra instância; - ESP: instância de revisão especial de processo submetido ou não à revisão direta; - EXT: instância de revisão extraordinária - ADM: instância administrativa de análise;\n",
        "      'orgaoJulgador_nomeOrgao', #dadosBasicos.orgaoJulgador.nomeOrgao: descrição textual da Unidade Judiciária constante no Módulo de Produtividade, Anexo II da Resolução 76;      \n",
        "\t\t\t'outrosnumeros', #dadosBasicos.outrosnumeros: outros números que o processo possa ter recebido durante sua vida;\n",
        "\t\t\t'numero', #dadosBasicos.numero: numeração única do processo conforme determinado pela Resolução 65;\n",
        "\t\t\t'competencia', #dadosBasicos.competencia: identificador da competência a que pertence o processo, ou da competência a que ele se destina caso se trate de processo inicial;\n",
        "\t\t\t'classeProcessual', #dadosBasicos.classeProcessual: código da classe processual conforme Resolução 46. Relação com sgt_classes.csv;\n",
        "\t\t\t'codigoLocalidade', #\t\t\tdadosBasicos.codigoLocalidade: código identificador da localidade a que pertence ou deve pertencer o processo. Deve ser utilizado o código do município, segundo códigos do IBGE disponíveis em www.ibge.gov.br (usar códigos com sete dígitos);\n",
        "\t\t\t'nivelSigilo', #dadosBasicos.nivelSigilo: nível de sigilo a ser aplicado ao processo;\n",
        "\t\t\t'intervencaoMP', #dadosBasicos.intervencaoMP: atributo destinado a identificar que o processo exige a intervenção do Ministério Público;\n",
        "\t\t\t'tamanhoProcesso', #dadosBasicos.tamanhoProcesso: volume, em bytes, dos documentos existentes no processo judicial; extraordinária, deve refletir a data de entrada do processo nessa instância;\n",
        "      'dataAjuizamento', #ndica a data em que o processo foi inicialmente recebido pelo Poder Judiciário no órgão consultado. Caso se trate de instância recursal, especial ou extraordinária, deve refletir a data de entrada do processo nessa instância;\n",
        "      'procEl', #dadosBasicos.procEl: campo identifica se o processo tramita em sistema eletrônico ou em papel. São valores possíveis - 1: Sistema Eletrônico - 2: Sistema Físico;\n",
        "\t\t\t'dscSistema' #dadosBasicos.dscSistema: identifica qual o sistema eletrônico que o processo tramita. São valores possíveis: 1 – Pje, 2 – Projudi, 3 – SAJ, 4 – EPROC, 5 – Apolo, 6 – Themis, 7 – Libra, 8 – Outros;            \t\t\t\n",
        "\t\t\t],  \n",
        "'assuntos_processo': \n",
        "      [\n",
        "      'id_processo',\n",
        "      'codigoNacional', #dadosBasicos.assunto.codigoNacional: elemento destinado a que se informe o código de assunto existente na tabela nacional unificada decorrente da Resolução 46;\n",
        "      'principal', #dadosBasicos.assunto.principal: atributo do tipo boolean que informa se o assunto referido é o assunto principal do processo.\n",
        "      'assuntoLocal_codigoAssunto', #dadosBasicos.assunto.assuntoLocal.codigoAssunto: atributo destinado a incluir a informação relativa ao código numérico utilizado localmente pelo tribunal.\n",
        "\t\t\t'assuntoLocal_codigoPaiNacional', #dadosBasicos.assunto.assuntoLocal.codigoPaiNacional: atributo destinado à entrada do código de assunto nacional de que o assunto local é filho.\n",
        "\t\t\t'assuntoLocal_descricao' #dadosBasicos.assunto.assuntoLocal.descricao: atributo destinado à entrada da descrição textual do assunto local.\n",
        "      ],\n",
        "'movimentos_processo':\n",
        "      [\n",
        "\t\t  'id_processo', #?\n",
        "\t\t  'dataHora', ##movimento.dataHora: atributo destinado a indicar o momento em que foi realizada a movimentação.\n",
        "\t\t\t'nivelSigilo', #movimento.nivelSigilo: nível de sigilo a ser aplicado ao processo;\n",
        "\t\t\t'identificadorMovimento', #movimento.identificadorMovimento: atributo incluído para permitir a atribuição de um identificador específico para a movimentação realizada em um determinado processo judicial.\n",
        "\t\t\t'tipoResponsavelMovimento', #movimento.tipoResponsavelMovimento: identificação do responsável pelo movimento: Servidor=0; Magistrado=1;\n",
        "\t\t\t'idDocumentoVinculado', #movimento.idDocumentoVinculado: elemento destinado a permitir a vinculação de um ou mais documentos à movimentação;\n",
        "\t\t\t'orgaoJulgador_codigoMunicipioIBGE', #movimento.orgaoJulgador.dadosBasicos.codigoMunicipioIBGE: município-sede da unidade judiciária, conforme código de municípios definidos pelo IBGE. Usar código com sete dígitos. Fonte: www.ibge.gov.br;\n",
        "\t\t\t'orgaoJulgador_codigoOrgao', #movimento.orgaoJulgador.dadosBasicos.codigoOrgao: código da Unidade Judiciária constante no Módulo de Produtividade, Anexo II da Resolução 76. \n",
        "\t\t\t'orgaoJulgador_instancia', #movimento.orgaoJulgador.dadosBasicos.instancia: os tipos de instância podem ser: - ORIG: instância originária em que o processo teve início; - REV: instância de revisão direta de um processo originariamente proposto em outra instância; - ESP: instância de revisão especial de processo submetido ou não à revisão direta; - EXT: instância de revisão extraordinária - ADM: instância administrativa de análise;\n",
        "\t\t\t'tipoDecisao', #movimento.tipoDecisao: atributo que permite a atribuição da decisão como sendomonocrática (proferida por um magistrado), ou colegiada;Valores possíveis são numéricos (0 ou 1):0 - decisão MONOCRATICA1 - decisão COLEGIADA;\n",
        "\t\t\t'movimentoNacional_codigoNacional', #movimento.movimentoNacional.codigoNacional: atributo destinado à indicação do código do movimento previsto na tabela unificada de que trata a Resolução 46;\n",
        "\t\t\t'movimentoLocal.codigoMovimento', #movimento.movimentoLocal.codigoMovimento: atributo destinado a incluir a informação relativa ao código numérico utilizado localmente pelo tribunal;\n",
        "\t\t\t'movimentoLocal_codigoPaiNacional' #movimento.movimentoLocal.codigoPaiNacional: atributo destinado à entrada do código de movimento nacional de que o movimento local é filho;\n",
        "          ],\n",
        "'complementos_movimento':\n",
        "\t\t\t[\n",
        "\t\t\t'identificadorMovimento', #identificador movimento / chave\n",
        "\t\t\t'complementoNacional_codComplemento', #\tmovimento.complementoNacional.codComplemento: atributo destinado à entrada do código docomplemento do movimentonacional ou do movimento local;\n",
        "\t\t\t'complementoNacional_descricaoComplemento', #\tmovimento.complementoNacional.descricaoComplemento: atributo destinado à entrada da descrição textualdocomplemento do movimento nacional ou do movimento local;\n",
        "\t\t\t'movimento_codComplementoTabelado' #movimento.complementoNacional.codComplementoTabelado: atributo destinado à entrada do código do complemento tabelado do movimento nacional ou do movimento local;\n",
        "\t\t\t]\n",
        "}\n",
        "\n",
        "def gera_id_processo (proc):\n",
        "  #'id_processo'  TRT9_1125_G1_20393_00000014220195090325.json\n",
        "  return str(proc['siglaTribunal'])+'_'+str(proc['dadosBasicos']['classeProcessual'])+'_'+str(proc['grau'])+'_'+str(proc['dadosBasicos']['orgaoJulgador']['codigoOrgao'])+'_'+str(proc['dadosBasicos']['numero'])  \n",
        "\n",
        "def d_proc(proc):\n",
        "  campos_proc = campos['processos']\n",
        "  yield [\n",
        "      gera_id_processo (proc), #'id_processo'  TRT9_1125_G1_20393_00000014220195090325.json\n",
        "      proc['millisInsercao'], # millisInsercao: campo interno com data e hora em milissegundos que representa quando o arquivo foi indexado no Datajud;\t\t\t\n",
        "\t\t\tproc['grau'], # grau: Campo identificador do grau de jurisdição em que o processo se encontra; valores possíveis: - 'SUP': Tribunal Superior - 'G2': 2º Grau - 'TR': Turma Recursal - 'G1': 1º grau, justiça comum - 'JE': Juizados Especiais (inclusive os regidos pelas leis dos Juizados Especiais 9.099/95 e 12.153/2009 que tramitam em varas de juízo único ou em varas que acumulam competência de juizado especial) - 'TRU': Turma Regional de Uniformização - 'TNU': Turma Nacional de Uniformização - 'TEU': Turma Estadual de Uniformização - 'CJF': Conselho da Justiça Federal - 'CSJT': Conselho Superior da Justiça do Trabalho;\n",
        "\t\t\tproc['siglaTribunal'], #siglaTribunal: campo identificador da sigla do Tribunal em que o processo se encontra; \t\t\t\n",
        "\t\t\tobtem_valor(proc['dadosBasicos'], 'processoVinculado', padrao=''), #dadosBasicos.processoVinculado: elemento destinado a permitir a indicação da existência de um ou mais processos judiciais vinculados.\n",
        "\t\t\tobtem_valor(proc['dadosBasicos'], 'relacaoIncidental', padrao=''), #dadosBasicos.relacaoIncidental: elemento destinado a permitir identificar se existe algum elemento incidental que tenha gerado novo processo judicial, em razão da existência de uma nova relação processual jurídica (por exemplo, como pode ocorrer em embargos à execução de títulos extrajudiciais, embargos de terceiro, em recursos internos, impugnações ao valor da causa, entre outras Situações, em que há criação de novos autos vinculados ao processo principal);\n",
        "\t\t\tobtem_valor(proc['dadosBasicos'], 'prioridade', padrao=''), #dadosBasicos.prioridade: Elemento destinado a permitir a identificação da existência de propriedades processuais não óbvias, ou seja, aquelas que não são resultado direto da identificação da classe processual (ex.: habeas corpus ou mandado de segurança). Na versão 2.0, será texto livre, mas é recomendável utilizar os seguintes textos identificadores: \"IDOSO\" \"RÉU PRESO\" \"PERECIMENTO\" \"MENOR\";\n",
        "\t\t\tobtem_valor(proc['dadosBasicos'], 'valorCausa', padrao=''), #dadosBasicos.valorCausa: valor da causa;\n",
        "\t\t\tobtem_valor(proc['dadosBasicos']['orgaoJulgador'], 'codigoOrgao', padrao=''), #dadosBasicos.orgaoJulgador.codigoOrgao: código da Unidade Judiciária constante no Módulo de Produtividade, Anexo II da Resolução 76;\n",
        "\t\t\tobtem_valor(proc['dadosBasicos']['orgaoJulgador'], 'codigoMunicipioIBGE', padrao=''), #dadosBasicos.orgaoJulgador.codigoMunicipioIBGE: município-sede da unidade judiciária, conforme código de municípios definidos pelo IBGE. Usar código com sete dígitos. Fonte: www.ibge.gov.br;\n",
        "      obtem_valor(proc['dadosBasicos']['orgaoJulgador'], 'instancia', padrao=''), #dadosBasicos.orgaoJulgador.instancia: os tipos de instância podem ser: - ORIG: instância originária em que o processo teve início; - REV: instância de revisão direta de um processo originariamente proposto em outra instância; - ESP: instância de revisão especial de processo submetido ou não à revisão direta; - EXT: instância de revisão extraordinária - ADM: instância administrativa de análise;\n",
        "      obtem_valor(proc['dadosBasicos']['orgaoJulgador'], 'nomeOrgao', padrao=''), #dadosBasicos.orgaoJulgador.nomeOrgao: descrição textual da Unidade Judiciária constante no Módulo de Produtividade, Anexo II da Resolução 76;      \n",
        "\t\t\tobtem_valor(proc['dadosBasicos'], 'outrosnumeros', padrao=''), #dadosBasicos.outrosnumeros: outros números que o processo possa ter recebido durante sua vida;\n",
        "\t\t\tobtem_valor(proc['dadosBasicos'], 'numero', padrao=''), #dadosBasicos.numero: numeração única do processo conforme determinado pela Resolução 65;\n",
        "\t\t\tobtem_valor(proc['dadosBasicos'], 'competencia', padrao=''), #dadosBasicos.competencia: identificador da competência a que pertence o processo, ou da competência a que ele se destina caso se trate de processo inicial;\n",
        "\t\t\tobtem_valor(proc['dadosBasicos'], 'classeProcessual', padrao=''), #dadosBasicos.classeProcessual: código da classe processual conforme Resolução 46. Relação com sgt_classes.csv;\n",
        "\t\t\tobtem_valor(proc['dadosBasicos'], 'codigoLocalidade', padrao=''), #\t\t\tdadosBasicos.codigoLocalidade: código identificador da localidade a que pertence ou deve pertencer o processo. Deve ser utilizado o código do município, segundo códigos do IBGE disponíveis em www.ibge.gov.br (usar códigos com sete dígitos);\n",
        "\t\t\tobtem_valor(proc['dadosBasicos'], 'nivelSigilo', padrao=''), #dadosBasicos.nivelSigilo: nível de sigilo a ser aplicado ao processo;\n",
        "\t\t\tobtem_valor(proc['dadosBasicos'], 'intervencaoMP', padrao=''), #dadosBasicos.intervencaoMP: atributo destinado a identificar que o processo exige a intervenção do Ministério Público;\n",
        "\t\t\tobtem_valor(proc['dadosBasicos'], 'tamanhoProcesso', padrao=''), #dadosBasicos.tamanhoProcesso: volume, em bytes, dos documentos existentes no processo judicial; extraordinária, deve refletir a data de entrada do processo nessa instância;\n",
        "      obtem_valor(proc['dadosBasicos'], 'dataAjuizamento', padrao=''), #ndica a data em que o processo foi inicialmente recebido pelo Poder Judiciário no órgão consultado. Caso se trate de instância recursal, especial ou extraordinária, deve refletir a data de entrada do processo nessa instância;\n",
        "      obtem_valor(proc['dadosBasicos'], 'procEl', padrao=''), #dadosBasicos.procEl: campo identifica se o processo tramita em sistema eletrônico ou em papel. São valores possíveis - 1: Sistema Eletrônico - 2: Sistema Físico;\n",
        "\t\t\tobtem_valor(proc['dadosBasicos'], 'dscSistema', padrao='') #dadosBasicos.dscSistema: identifica qual o sistema eletrônico que o processo tramita. São valores possíveis: 1 – Pje, 2 – Projudi, 3 – SAJ, 4 – EPROC, 5 – Apolo, 6 – Themis, 7 – Libra, 8 – Outros;            \t\t\t\n",
        "  ]\n",
        "\n",
        "def d_ass(proc):    \n",
        "  id_processo = gera_id_processo (proc)\n",
        "  assuntos = []\n",
        "  if 'assunto' in proc['dadosBasicos'] and proc['dadosBasicos']['assunto'] != None:\n",
        "    assuntos = proc['dadosBasicos']['assunto']\n",
        "  for p in assuntos:\n",
        "    yield [\n",
        "           id_processo, #'id_processo'  TRT9_1125_G1_20393_00000014220195090325.json\n",
        "           obtem_valor(p, 'codigoNacional', padrao=''), #dadosBasicos.assunto.codigoNacional: elemento destinado a que se informe o código de assunto existente na tabela nacional unificada decorrente da Resolução 46;\n",
        "           obtem_valor(p, 'principal', padrao=''),  #dadosBasicos.assunto.principal: atributo do tipo boolean que informa se o assunto referido é o assunto principal do processo.\n",
        "           obtem_valor(p, 'codigoAssunto', padrao=''), #dadosBasicos.assunto.assuntoLocal.codigoAssunto: atributo destinado a incluir a informação relativa ao código numérico utilizado localmente pelo tribunal.\n",
        "\t\t\t     obtem_valor(p, 'codigoPaiNacional', padrao=''), #dadosBasicos.assunto.assuntoLocal.codigoPaiNacional: atributo destinado à entrada do código de assunto nacional de que o assunto local é filho.\n",
        "\t\t\t     obtem_valor(p, 'descricao', padrao='') #dadosBasicos.assunto.assuntoLocal.descricao: atributo destinado à entrada da descrição textual do assunto local.\n",
        "          ]\n",
        "\n",
        "\n",
        "def d_mov(proc):\n",
        "  movimentos = []\n",
        "  id_processo = gera_id_processo (proc)\n",
        "  if 'movimento' in proc and proc['movimento'] != None:\n",
        "    movimentos = proc['movimento']\n",
        "  for p in movimentos:\n",
        "    if 'orgaoJulgador' in p and p['orgaoJulgador'] != None:\n",
        "      codigoMunicipioIBGE = obtem_valor(p['orgaoJulgador'], 'codigoMunicipioIBGE', padrao='') #movimento.orgaoJulgador.dadosBasicos.codigoMunicipioIBGE: município-sede da unidade judiciária, conforme código de municípios definidos pelo IBGE. Usar código com sete dígitos. Fonte: www.ibge.gov.br;\n",
        "      codigoOrgao = obtem_valor(p['orgaoJulgador'], 'codigoOrgao', padrao='') #movimento.orgaoJulgador.dadosBasicos.codigoOrgao: código da Unidade Judiciária constante no Módulo de Produtividade, Anexo II da Resolução 76.\n",
        "      instancia = obtem_valor(p['orgaoJulgador'], 'instancia', padrao='') #movimento.orgaoJulgador.dadosBasicos.instancia: os tipos de instância podem ser: - ORIG: instância originária em que o processo teve início; - REV: instância de revisão direta de um processo originariamente proposto em outra instância; - ESP: instância de revisão especial de processo submetido ou não à revisão direta; - EXT: instância de revisão extraordinária - ADM: instância administrativa de análise;\n",
        "    else:\n",
        "      codigoMunicipioIBGE = ''\n",
        "      codigoOrgao = ''\n",
        "      instancia = ''\n",
        "\n",
        "    movimentoNacional_codigoNacional = ''\n",
        "    movimentoLocal_codigoMovimento = ''\n",
        "    movimentoLocal_codigoPaiNacional = ''    \n",
        "    if 'movimentoNacional' in p and p['movimentoNacional'] != None:\n",
        "        movimentoNacional_codigoNacional = obtem_valor(p['movimentoNacional'],'codigoNacional', padrao='') #movimento.movimentoNacional.codigoNacional: atributo destinado à indicação do código do movimento previsto na tabela unificada de que trata a Resolução 46;      \n",
        "    if 'movimentoLocal' in p and p['movimentoLocal'] != None:\n",
        "        movimentoLocal_codigoMovimento = obtem_valor(p['movimentoLocal'], 'codigoMovimento', padrao='') #movimento.movimentoLocal.codigoMovimento: atributo destinado a incluir a informação relativa ao código numérico utilizado localmente pelo tribunal;\n",
        "        movimentoLocal_codigoPaiNacional = obtem_valor(p['movimentoLocal'], 'codigoPaiNacional', padrao=''), #movimento.movimentoLocal.codigoPaiNacional: atributo destinado à entrada do código de movimento nacional de que o movimento local é filho;\n",
        "    yield [\n",
        "    id_processo, #\n",
        "\t\tobtem_valor(p, 'dataHora', padrao=''), ##movimento.dataHora: atributo destinado a indicar o momento em que foi realizada a movimentação.\n",
        "\t\tobtem_valor(p, 'nivelSigilo', padrao=''), #movimento.nivelSigilo: nível de sigilo a ser aplicado ao processo;\n",
        "\t\tobtem_valor(p, 'identificadorMovimento', padrao=''), #movimento.identificadorMovimento: atributo incluído para permitir a atribuição de um identificador específico para a movimentação realizada em um determinado processo judicial.\n",
        "\t\tobtem_valor(p, 'tipoResponsavelMovimento', padrao=''), #movimento.tipoResponsavelMovimento: identificação do responsável pelo movimento: Servidor=0; Magistrado=1;\n",
        "\t\tobtem_valor(p, 'idDocumentoVinculado', padrao=''), #movimento.idDocumentoVinculado: elemento destinado a permitir a vinculação de um ou mais documentos à movimentação;\n",
        "    codigoMunicipioIBGE, #movimento.orgaoJulgador.dadosBasicos.codigoMunicipioIBGE: município-sede da unidade judiciária, conforme código de municípios definidos pelo IBGE. Usar código com sete dígitos. Fonte: www.ibge.gov.br;\n",
        "\t\tcodigoOrgao, #movimento.orgaoJulgador.dadosBasicos.codigoOrgao: código da Unidade Judiciária constante no Módulo de Produtividade, Anexo II da Resolução 76. \n",
        "\t\tinstancia, #movimento.orgaoJulgador.dadosBasicos.instancia: os tipos de instância podem ser: - ORIG: instância originária em que o processo teve início; - REV: instância de revisão direta de um processo originariamente proposto em outra instância; - ESP: instância de revisão especial de processo submetido ou não à revisão direta; - EXT: instância de revisão extraordinária - ADM: instância administrativa de análise;\n",
        "\t\tobtem_valor(p, 'tipoDecisao', padrao=''), #movimento.tipoDecisao: atributo que permite a atribuição da decisão como sendomonocrática (proferida por um magistrado), ou colegiada;Valores possíveis são numéricos (0 ou 1):0 - decisão MONOCRATICA1 - decisão COLEGIADA;\n",
        "\t\tmovimentoNacional_codigoNacional, #movimento.movimentoNacional.codigoNacional: atributo destinado à indicação do código do movimento previsto na tabela unificada de que trata a Resolução 46;\n",
        "\t\tmovimentoLocal_codigoMovimento, #movimento.movimentoLocal.codigoMovimento: atributo destinado a incluir a informação relativa ao código numérico utilizado localmente pelo tribunal;\n",
        "\t\tmovimentoLocal_codigoPaiNacional #movimento.movimentoLocal.codigoPaiNacional: atributo destinado à entrada do código de movimento nacional de que o movimento local é filho;\n",
        "    ]\n",
        "    \n",
        "    \n",
        "def d_compl(proc):\n",
        "  complementos = []\n",
        "  if 'movimento' in proc and proc['movimento'] != None and 'complementoNacional' in proc['movimento'] and proc['movimento']['complementoNacional'] != None:\n",
        "    complementos = proc['movimento']['complementoNacional']\n",
        "  for p in complementos:\n",
        "      identificadorMovimento = str(p['identificadorMovimento'])\n",
        "      yield [\n",
        "      identificadorMovimento, #identificado movimento / chave\n",
        "\t\t\tobtem_valor(p,'codComplemento', padrao=''),#'complementoNacional_codComplemento', #\tmovimento.complementoNacional.codComplemento: atributo destinado à entrada do código docomplemento do movimentonacional ou do movimento local;\n",
        "\t\t\tobtem_valor(p,'descricaoComplemento', padrao=''), #\tmovimento.complementoNacional.descricaoComplemento: atributo destinado à entrada da descrição textualdocomplemento do movimento nacional ou do movimento local;\n",
        "\t\t\tobtem_valor(p,'codComplementoTabelado', padrao='') #movimento.complementoNacional.codComplementoTabelado: atributo destinado à entrada do código do complemento tabelado do movimento nacional ou do movimento local;\n",
        "\t\t\t]\n"
      ],
      "execution_count": 10,
      "outputs": []
    },
    {
      "cell_type": "markdown",
      "metadata": {
        "id": "puxvdEo31EHT"
      },
      "source": [
        "## Procedimento para obter todos os arquivos da base disponibilizada e gerar CSVs\n",
        "\n",
        "São 4 CSVS gerados: processos_1.csv, assuntos_1.csv, movimentos_1.csv e complementos_1.csv\n",
        "\n",
        "Pode demorar um pouco (algo em torno de 15 minutos)."
      ]
    },
    {
      "cell_type": "code",
      "metadata": {
        "id": "-5xpTTQvGm4C",
        "outputId": "16e73b55-34cb-47ce-d8f1-5969169a98a8",
        "colab": {
          "base_uri": "https://localhost:8080/",
          "height": 505
        }
      },
      "source": [
        "\n",
        "client = storage.Client(project=project)\n",
        "bucket = storage.Bucket(client, name=BUCKET_NAME, user_project=project)\n",
        "prefix = \"base/\"\n",
        "all_blobs = list(client.list_blobs(bucket,prefix=prefix ))\n",
        "\n",
        "blobs = [y for y in all_blobs[1:] if y.name.strip().endswith('.json')]\n",
        "\n",
        "particao=\"_1\"\n",
        "csv_processos = f\"processos{particao}.csv\"\n",
        "csv_assuntos = f\"assuntos{particao}.csv\"\n",
        "csv_movimentos = f\"movimentos{particao}.csv\"\n",
        "csv_complementos = f\"complementos{particao}.csv\"\n",
        "\n",
        "with open(csv_processos, 'w', newline='') as f_processos, open(csv_assuntos,'w', newline='') as f_assuntos, open(csv_movimentos,'w', newline='') as f_movimentos, open(csv_complementos,'w', newline='') as f_complementos:\n",
        "  w_processos = csv.writer(f_processos, quoting=csv.QUOTE_ALL)\n",
        "  w_assuntos = csv.writer(f_assuntos)\n",
        "  w_movimentos = csv.writer(f_movimentos)\n",
        "  w_complementos = csv.writer(f_complementos)\n",
        "  #cabeçalhos\n",
        "  w_processos.writerows([campos['processos']])\n",
        "  w_assuntos.writerows([campos['assuntos_processo']])\n",
        "  w_movimentos.writerows([campos['movimentos_processo']])\n",
        "  w_complementos.writerows([campos['complementos_movimento']])\n",
        "  \n",
        "  erros = []\n",
        "  total_arquivos = 0\n",
        "  for blob in blobs:\n",
        "    try:\n",
        "      blob_name = blob.name.lstrip(prefix).replace(\".json\",\"\")\n",
        "      blob_content = blob.download_as_string()\n",
        "      proc_json = json.loads(blob_content)\n",
        "      numero_item = -1\n",
        "      for p in proc_json:\n",
        "        total_arquivos = total_arquivos + 1\n",
        "        numero_item = numero_item + 1\n",
        "        w_processos.writerows(d_proc(p))\n",
        "        w_assuntos.writerows(d_ass(p))\n",
        "        w_movimentos.writerows(d_mov(p))\n",
        "        w_complementos.writerows(d_compl(p))\n",
        "        #Imprime datahora a cada 50.000 arquivos\n",
        "        if total_arquivos % 50000 == 0:\n",
        "          datahora = datetime.now().strftime(\"%d/%m/%y %H:%M\")\n",
        "          print(f\"{datahora};{total_arquivos}\")\n",
        "    except Exception as e: \n",
        "      erro = {\n",
        "          'arquivo': blob_name,\n",
        "          'numero_item': numero_item,\n",
        "          'erro': e,\n",
        "          'traceback':traceback.format_exc()\n",
        "      }\n",
        "      erros.append(erro)\n",
        "      logger.warning(erro)\n",
        "    \n",
        "      \n",
        "  \n",
        "    #dadosBasicos\n",
        "  \n",
        "\n"
      ],
      "execution_count": 11,
      "outputs": [
        {
          "output_type": "stream",
          "text": [
            "21/10/20 15:46;50000\n",
            "21/10/20 15:46;100000\n",
            "21/10/20 15:46;150000\n",
            "21/10/20 15:47;200000\n",
            "21/10/20 15:47;250000\n",
            "21/10/20 15:47;300000\n",
            "21/10/20 15:48;350000\n",
            "21/10/20 15:49;400000\n"
          ],
          "name": "stdout"
        },
        {
          "output_type": "error",
          "ename": "KeyboardInterrupt",
          "evalue": "ignored",
          "traceback": [
            "\u001b[0;31m---------------------------------------------------------------------------\u001b[0m",
            "\u001b[0;31mKeyboardInterrupt\u001b[0m                         Traceback (most recent call last)",
            "\u001b[0;32m<ipython-input-11-347dcce3f68f>\u001b[0m in \u001b[0;36m<module>\u001b[0;34m()\u001b[0m\n\u001b[1;32m     30\u001b[0m       \u001b[0mblob_name\u001b[0m \u001b[0;34m=\u001b[0m \u001b[0mblob\u001b[0m\u001b[0;34m.\u001b[0m\u001b[0mname\u001b[0m\u001b[0;34m.\u001b[0m\u001b[0mlstrip\u001b[0m\u001b[0;34m(\u001b[0m\u001b[0mprefix\u001b[0m\u001b[0;34m)\u001b[0m\u001b[0;34m.\u001b[0m\u001b[0mreplace\u001b[0m\u001b[0;34m(\u001b[0m\u001b[0;34m\".json\"\u001b[0m\u001b[0;34m,\u001b[0m\u001b[0;34m\"\"\u001b[0m\u001b[0;34m)\u001b[0m\u001b[0;34m\u001b[0m\u001b[0;34m\u001b[0m\u001b[0m\n\u001b[1;32m     31\u001b[0m       \u001b[0mblob_content\u001b[0m \u001b[0;34m=\u001b[0m \u001b[0mblob\u001b[0m\u001b[0;34m.\u001b[0m\u001b[0mdownload_as_string\u001b[0m\u001b[0;34m(\u001b[0m\u001b[0;34m)\u001b[0m\u001b[0;34m\u001b[0m\u001b[0;34m\u001b[0m\u001b[0m\n\u001b[0;32m---> 32\u001b[0;31m       \u001b[0mproc_json\u001b[0m \u001b[0;34m=\u001b[0m \u001b[0mjson\u001b[0m\u001b[0;34m.\u001b[0m\u001b[0mloads\u001b[0m\u001b[0;34m(\u001b[0m\u001b[0mblob_content\u001b[0m\u001b[0;34m)\u001b[0m\u001b[0;34m\u001b[0m\u001b[0;34m\u001b[0m\u001b[0m\n\u001b[0m\u001b[1;32m     33\u001b[0m       \u001b[0mnumero_item\u001b[0m \u001b[0;34m=\u001b[0m \u001b[0;34m-\u001b[0m\u001b[0;36m1\u001b[0m\u001b[0;34m\u001b[0m\u001b[0;34m\u001b[0m\u001b[0m\n\u001b[1;32m     34\u001b[0m       \u001b[0;32mfor\u001b[0m \u001b[0mp\u001b[0m \u001b[0;32min\u001b[0m \u001b[0mproc_json\u001b[0m\u001b[0;34m:\u001b[0m\u001b[0;34m\u001b[0m\u001b[0;34m\u001b[0m\u001b[0m\n",
            "\u001b[0;32m/usr/lib/python3.6/json/__init__.py\u001b[0m in \u001b[0;36mloads\u001b[0;34m(s, encoding, cls, object_hook, parse_float, parse_int, parse_constant, object_pairs_hook, **kw)\u001b[0m\n\u001b[1;32m    352\u001b[0m             \u001b[0mparse_int\u001b[0m \u001b[0;32mis\u001b[0m \u001b[0;32mNone\u001b[0m \u001b[0;32mand\u001b[0m \u001b[0mparse_float\u001b[0m \u001b[0;32mis\u001b[0m \u001b[0;32mNone\u001b[0m \u001b[0;32mand\u001b[0m\u001b[0;34m\u001b[0m\u001b[0;34m\u001b[0m\u001b[0m\n\u001b[1;32m    353\u001b[0m             parse_constant is None and object_pairs_hook is None and not kw):\n\u001b[0;32m--> 354\u001b[0;31m         \u001b[0;32mreturn\u001b[0m \u001b[0m_default_decoder\u001b[0m\u001b[0;34m.\u001b[0m\u001b[0mdecode\u001b[0m\u001b[0;34m(\u001b[0m\u001b[0ms\u001b[0m\u001b[0;34m)\u001b[0m\u001b[0;34m\u001b[0m\u001b[0;34m\u001b[0m\u001b[0m\n\u001b[0m\u001b[1;32m    355\u001b[0m     \u001b[0;32mif\u001b[0m \u001b[0mcls\u001b[0m \u001b[0;32mis\u001b[0m \u001b[0;32mNone\u001b[0m\u001b[0;34m:\u001b[0m\u001b[0;34m\u001b[0m\u001b[0;34m\u001b[0m\u001b[0m\n\u001b[1;32m    356\u001b[0m         \u001b[0mcls\u001b[0m \u001b[0;34m=\u001b[0m \u001b[0mJSONDecoder\u001b[0m\u001b[0;34m\u001b[0m\u001b[0;34m\u001b[0m\u001b[0m\n",
            "\u001b[0;32m/usr/lib/python3.6/json/decoder.py\u001b[0m in \u001b[0;36mdecode\u001b[0;34m(self, s, _w)\u001b[0m\n\u001b[1;32m    337\u001b[0m \u001b[0;34m\u001b[0m\u001b[0m\n\u001b[1;32m    338\u001b[0m         \"\"\"\n\u001b[0;32m--> 339\u001b[0;31m         \u001b[0mobj\u001b[0m\u001b[0;34m,\u001b[0m \u001b[0mend\u001b[0m \u001b[0;34m=\u001b[0m \u001b[0mself\u001b[0m\u001b[0;34m.\u001b[0m\u001b[0mraw_decode\u001b[0m\u001b[0;34m(\u001b[0m\u001b[0ms\u001b[0m\u001b[0;34m,\u001b[0m \u001b[0midx\u001b[0m\u001b[0;34m=\u001b[0m\u001b[0m_w\u001b[0m\u001b[0;34m(\u001b[0m\u001b[0ms\u001b[0m\u001b[0;34m,\u001b[0m \u001b[0;36m0\u001b[0m\u001b[0;34m)\u001b[0m\u001b[0;34m.\u001b[0m\u001b[0mend\u001b[0m\u001b[0;34m(\u001b[0m\u001b[0;34m)\u001b[0m\u001b[0;34m)\u001b[0m\u001b[0;34m\u001b[0m\u001b[0;34m\u001b[0m\u001b[0m\n\u001b[0m\u001b[1;32m    340\u001b[0m         \u001b[0mend\u001b[0m \u001b[0;34m=\u001b[0m \u001b[0m_w\u001b[0m\u001b[0;34m(\u001b[0m\u001b[0ms\u001b[0m\u001b[0;34m,\u001b[0m \u001b[0mend\u001b[0m\u001b[0;34m)\u001b[0m\u001b[0;34m.\u001b[0m\u001b[0mend\u001b[0m\u001b[0;34m(\u001b[0m\u001b[0;34m)\u001b[0m\u001b[0;34m\u001b[0m\u001b[0;34m\u001b[0m\u001b[0m\n\u001b[1;32m    341\u001b[0m         \u001b[0;32mif\u001b[0m \u001b[0mend\u001b[0m \u001b[0;34m!=\u001b[0m \u001b[0mlen\u001b[0m\u001b[0;34m(\u001b[0m\u001b[0ms\u001b[0m\u001b[0;34m)\u001b[0m\u001b[0;34m:\u001b[0m\u001b[0;34m\u001b[0m\u001b[0;34m\u001b[0m\u001b[0m\n",
            "\u001b[0;32m/usr/lib/python3.6/json/decoder.py\u001b[0m in \u001b[0;36mraw_decode\u001b[0;34m(self, s, idx)\u001b[0m\n\u001b[1;32m    353\u001b[0m         \"\"\"\n\u001b[1;32m    354\u001b[0m         \u001b[0;32mtry\u001b[0m\u001b[0;34m:\u001b[0m\u001b[0;34m\u001b[0m\u001b[0;34m\u001b[0m\u001b[0m\n\u001b[0;32m--> 355\u001b[0;31m             \u001b[0mobj\u001b[0m\u001b[0;34m,\u001b[0m \u001b[0mend\u001b[0m \u001b[0;34m=\u001b[0m \u001b[0mself\u001b[0m\u001b[0;34m.\u001b[0m\u001b[0mscan_once\u001b[0m\u001b[0;34m(\u001b[0m\u001b[0ms\u001b[0m\u001b[0;34m,\u001b[0m \u001b[0midx\u001b[0m\u001b[0;34m)\u001b[0m\u001b[0;34m\u001b[0m\u001b[0;34m\u001b[0m\u001b[0m\n\u001b[0m\u001b[1;32m    356\u001b[0m         \u001b[0;32mexcept\u001b[0m \u001b[0mStopIteration\u001b[0m \u001b[0;32mas\u001b[0m \u001b[0merr\u001b[0m\u001b[0;34m:\u001b[0m\u001b[0;34m\u001b[0m\u001b[0;34m\u001b[0m\u001b[0m\n\u001b[1;32m    357\u001b[0m             \u001b[0;32mraise\u001b[0m \u001b[0mJSONDecodeError\u001b[0m\u001b[0;34m(\u001b[0m\u001b[0;34m\"Expecting value\"\u001b[0m\u001b[0;34m,\u001b[0m \u001b[0ms\u001b[0m\u001b[0;34m,\u001b[0m \u001b[0merr\u001b[0m\u001b[0;34m.\u001b[0m\u001b[0mvalue\u001b[0m\u001b[0;34m)\u001b[0m \u001b[0;32mfrom\u001b[0m \u001b[0;32mNone\u001b[0m\u001b[0;34m\u001b[0m\u001b[0;34m\u001b[0m\u001b[0m\n",
            "\u001b[0;31mKeyboardInterrupt\u001b[0m: "
          ]
        }
      ]
    },
    {
      "cell_type": "markdown",
      "metadata": {
        "id": "EFxd6gXG1nCD"
      },
      "source": [
        "## Verifica se houve algum erro de importação:"
      ]
    },
    {
      "cell_type": "code",
      "metadata": {
        "id": "PDIx5FxtgbY_",
        "outputId": "e9c6a730-8389-4b31-b845-920f4a37d520",
        "colab": {
          "base_uri": "https://localhost:8080/",
          "height": 34
        }
      },
      "source": [
        "print(erros)"
      ],
      "execution_count": 14,
      "outputs": [
        {
          "output_type": "stream",
          "text": [
            "[]\n"
          ],
          "name": "stdout"
        }
      ]
    },
    {
      "cell_type": "markdown",
      "metadata": {
        "id": "-wlyFiYF1_Ta"
      },
      "source": [
        "## Com os CSVs gerados no ambiente do transiente do Google Colab, faz upload para o Google Storage na pasta \"base_csv\""
      ]
    },
    {
      "cell_type": "code",
      "metadata": {
        "id": "6v9shGSOD6AQ",
        "outputId": "a0bf647b-0573-441d-c18d-fd8555e5d51a",
        "colab": {
          "base_uri": "https://localhost:8080/",
          "height": 84
        }
      },
      "source": [
        "arquivos = ['processos_1.csv','assuntos_1.csv','movimentos_1.csv','complementos_1.csv']\n",
        "for arquivo in arquivos:\n",
        "  print(arquivo)\n",
        "  blob = bucket.blob(f\"base_csv/{arquivo}\")\n",
        "  blob.upload_from_filename(arquivo)\n"
      ],
      "execution_count": null,
      "outputs": [
        {
          "output_type": "stream",
          "text": [
            "processos_1.csv\n",
            "assuntos_1.csv\n",
            "movimentos_1.csv\n",
            "complementos_1.csv\n"
          ],
          "name": "stdout"
        }
      ]
    },
    {
      "cell_type": "markdown",
      "metadata": {
        "id": "N2kJoHykka8E"
      },
      "source": [
        "## Upload dados via API python para BIgQuery:\n",
        "\n",
        "Os CSVs gerados podem ser utilizados diretamente ou importados para qualquer tecnologia de banco de dados, como o Google BigQuery no Gloogle Cloud Platform"
      ]
    },
    {
      "cell_type": "code",
      "metadata": {
        "id": "zdLgiZrRkO0F",
        "outputId": "1e2bcff0-b846-45e6-bc4f-e10324b6e0bf",
        "colab": {
          "base_uri": "https://localhost:8080/",
          "height": 70
        }
      },
      "source": [
        "from google.cloud import bigquery\n",
        "file_path = \"processos_1.csv\"\n",
        "dataset = \"processos1\"\n",
        "#table = \"your_table_name\"\n",
        "table = file_path.replace(\".csv\",\"\")\n",
        "# Construct a BigQuery client object.\n",
        "client = bigquery.Client(project=project)\n",
        "\n",
        "# TODO(developer): Set table_id to the ID of the table to create.\n",
        "table_id = f\"{project}.{dataset}.{table}\"\n",
        "\n",
        "job_config = bigquery.LoadJobConfig(\n",
        "    source_format=bigquery.SourceFormat.CSV, skip_leading_rows=1, autodetect=True,\n",
        ")\n",
        "\n",
        "with open(file_path, \"rb\") as source_file:\n",
        "    job = client.load_table_from_file(source_file, table_id, job_config=job_config)\n",
        "\n",
        "job.result()  # Waits for the job to complete.\n",
        "\n",
        "table = client.get_table(table_id)  # Make an API request.\n",
        "print(\n",
        "    \"Loaded {} rows and {} columns to {}\".format(\n",
        "        table.num_rows, len(table.schema), table_id\n",
        "    )\n",
        ")\n"
      ],
      "execution_count": null,
      "outputs": [
        {
          "output_type": "stream",
          "text": [
            "WARNING:google.auth._default:No project ID could be determined. Consider running `gcloud config set project` or setting the GOOGLE_CLOUD_PROJECT environment variable\n"
          ],
          "name": "stderr"
        },
        {
          "output_type": "stream",
          "text": [
            "Loaded 6 rows and 21 columns to tensile-virtue-291314.processos1.processos_1\n"
          ],
          "name": "stdout"
        }
      ]
    },
    {
      "cell_type": "code",
      "metadata": {
        "id": "svEbUcXm2WTY"
      },
      "source": [
        ""
      ],
      "execution_count": null,
      "outputs": []
    }
  ]
}